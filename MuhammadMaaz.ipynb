{
 "cells": [
  {
   "cell_type": "code",
   "execution_count": 1,
   "id": "4a0cb8f7",
   "metadata": {},
   "outputs": [
    {
     "name": "stdout",
     "output_type": "stream",
     "text": [
      "Q1 What value is displayed when the last expression (a) is evaluated?\n",
      " \n"
     ]
    }
   ],
   "source": [
    "print(\"Q1 What value is displayed when the last expression (a) is evaluated?\\n \")\n",
    "a = 0\n",
    "def b():\n",
    "    global a\n",
    "    a = c(a)\n",
    "\n",
    "def c(a):\n",
    "    return a+2"
   ]
  },
  {
   "cell_type": "code",
   "execution_count": 2,
   "id": "7d51b7e6",
   "metadata": {},
   "outputs": [],
   "source": [
    "b()"
   ]
  },
  {
   "cell_type": "code",
   "execution_count": 3,
   "id": "00dced55",
   "metadata": {},
   "outputs": [],
   "source": [
    "b()"
   ]
  },
  {
   "cell_type": "code",
   "execution_count": 4,
   "id": "6270a5da",
   "metadata": {},
   "outputs": [],
   "source": [
    "b()"
   ]
  },
  {
   "cell_type": "code",
   "execution_count": 5,
   "id": "8a2f5052",
   "metadata": {},
   "outputs": [
    {
     "data": {
      "text/plain": [
       "6"
      ]
     },
     "execution_count": 5,
     "metadata": {},
     "output_type": "execute_result"
    }
   ],
   "source": [
    "a"
   ]
  },
  {
   "cell_type": "code",
   "execution_count": 6,
   "id": "47453659",
   "metadata": {},
   "outputs": [
    {
     "name": "stdout",
     "output_type": "stream",
     "text": [
      "Q2. Function fileLength(), given to you, takes the name of a file as input and returns the length of the file:\n"
     ]
    }
   ],
   "source": [
    "print(\"Q2. Function fileLength(), given to you, takes the name of a file as input and returns the length of the file:\")\n",
    "\n",
    "def file_length(file_name):\n",
    "        try:\n",
    "            file = open(file_name) \n",
    "            contents = file.read() \n",
    "            file.close()       \n",
    "            print(len(contents))\n",
    "        except:\n",
    "            print('File ' + file_name + ' not found')"
   ]
  },
  {
   "cell_type": "code",
   "execution_count": 7,
   "id": "9e831a6e",
   "metadata": {},
   "outputs": [
    {
     "name": "stdout",
     "output_type": "stream",
     "text": [
      "123\n"
     ]
    }
   ],
   "source": [
    "file_length('Filelength.txt')"
   ]
  },
  {
   "cell_type": "code",
   "execution_count": 1,
   "id": "86adf160",
   "metadata": {},
   "outputs": [
    {
     "name": "stdout",
     "output_type": "stream",
     "text": [
      "Q3.Write a class named Marsupial that can be used as shown below:\n"
     ]
    },
    {
     "data": {
      "text/plain": [
       "['doll', 'firetruck', 'kitten']"
      ]
     },
     "execution_count": 1,
     "metadata": {},
     "output_type": "execute_result"
    }
   ],
   "source": [
    "print(\"Q3.Write a class named Marsupial that can be used as shown below:\")\n",
    "class Marsupial:\n",
    "    Contents = []\n",
    "    def put_in_pouch(self,item, contents = Contents):\n",
    "        self.item = item\n",
    "        contents.append(self.item)\n",
    "    \n",
    "    def pouch_contents(self, contents = Contents):\n",
    "        return contents\n",
    "\n",
    "m = Marsupial()\n",
    "m.put_in_pouch('doll')\n",
    "m.put_in_pouch('firetruck')\n",
    "m.put_in_pouch('kitten')\n",
    "m.pouch_contents()"
   ]
  },
  {
   "cell_type": "code",
   "execution_count": 2,
   "id": "b6064816",
   "metadata": {},
   "outputs": [],
   "source": [
    "class kangaroo(Marsupial):\n",
    "    def __init__(self,x,y):\n",
    "        super().__init__()\n",
    "        self.xinput=x\n",
    "        self.yinput=y\n",
    "    def jump(self,dx,dy):\n",
    "        self.xinput+=dx\n",
    "        self.yinput+=dy\n",
    "    def __str__(self):\n",
    "        return\"I am Kangaroo located at coordinates\"+ \"(\"+str(self.xinput)+\",\"+str(self.yinput) +\")\""
   ]
  },
  {
   "cell_type": "code",
   "execution_count": 3,
   "id": "2095d506",
   "metadata": {},
   "outputs": [
    {
     "name": "stdout",
     "output_type": "stream",
     "text": [
      "I am Kangaroo located at coordinates(0,0)\n"
     ]
    },
    {
     "data": {
      "text/plain": [
       "['doll', 'firetruck', 'kitten', 'doll', 'firetruck', 'kitten']"
      ]
     },
     "execution_count": 3,
     "metadata": {},
     "output_type": "execute_result"
    }
   ],
   "source": [
    "k = kangaroo(0,0)\n",
    "print(k)\n",
    "k.put_in_pouch('doll')\n",
    "k.put_in_pouch('firetruck')\n",
    "k.put_in_pouch('kitten')\n",
    "k.pouch_contents()"
   ]
  },
  {
   "cell_type": "code",
   "execution_count": 17,
   "id": "76ed12d8",
   "metadata": {},
   "outputs": [
    {
     "name": "stdout",
     "output_type": "stream",
     "text": [
      "I am Kangaroo located at coordinates(3,0)\n"
     ]
    }
   ],
   "source": [
    "k.jump(1,0)\n",
    "k.jump(1,0)\n",
    "k.jump(1,0)\n",
    "print(k)"
   ]
  },
  {
   "cell_type": "code",
   "execution_count": 12,
   "id": "85e8580f",
   "metadata": {},
   "outputs": [
    {
     "name": "stdout",
     "output_type": "stream",
     "text": [
      "Q4. Write function collatz() that takes a positive integer x as input and prints the Collatz sequence starting at x.\n",
      "Enter the Number: 10\n",
      "5\n",
      "16\n",
      "8\n",
      "4\n",
      "2\n",
      "1\n"
     ]
    }
   ],
   "source": [
    "print(\"Q4. Write function collatz() that takes a positive integer x as input and prints the Collatz sequence starting at x.\")\n",
    "def collatz(dig):\n",
    "    while dig != 1:\n",
    "        if dig % 2 == 0:\n",
    "            dig = dig // 2\n",
    "            print(dig)\n",
    "\n",
    "        elif dig % 2 == 1:\n",
    "            dig = dig * 3 + 1\n",
    "            print(dig)\n",
    "\n",
    "try:\n",
    "    num = int(input(\"Enter the Number: \"))\n",
    "    collatz(num)\n",
    "except ValueError:\n",
    "    print('Please use whole numbers only.')"
   ]
  },
  {
   "cell_type": "code",
   "execution_count": 10,
   "id": "e7ccc180",
   "metadata": {},
   "outputs": [
    {
     "name": "stdout",
     "output_type": "stream",
     "text": [
      "Q5.Write a recursive method binary() that takes a non-negative integer n and prints the binary representation of integer n. \n",
      "\n",
      "1001\n"
     ]
    }
   ],
   "source": [
    "print(\"Q5.Write a recursive method binary() that takes a non-negative integer n and prints the binary representation of integer n. \\n\")\n",
    "\n",
    "def binary(a):\n",
    "    b = str(a % 2)\n",
    "\n",
    "    if a >> 1 > 0:\n",
    "        b += binary(a >> 1)\n",
    "\n",
    "    return b\n",
    "\n",
    "print(binary(9))"
   ]
  },
  {
   "cell_type": "code",
   "execution_count": 13,
   "id": "576428b0",
   "metadata": {},
   "outputs": [
    {
     "name": "stdout",
     "output_type": "stream",
     "text": [
      "Q6. Implement a class named HeadingParser that can be used to parse an HTML document, and retrieve and print all the headings in the document. You should implement your class as a subclass of HTMLParser,defined in Standard Library module html.parser\n",
      "W3C Mission\n",
      "Principles\n"
     ]
    }
   ],
   "source": [
    "print(\"Q6. Implement a class named HeadingParser that can be used to parse an HTML document, and retrieve and print all the headings in the document. You should implement your class as a subclass of HTMLParser,defined in Standard Library module html.parser\")\n",
    "\n",
    "\n",
    "from html.parser import HTMLParser\n",
    "class HeadingParser(HTMLParser):\n",
    "    head = False\n",
    "    l = []\n",
    "    \n",
    "    def handle_starttag(self, tag, attrs):\n",
    "        if tag in (\"h1\",\"h2\"):\n",
    "            self.head = True\n",
    "    def handle_data(self, data):\n",
    "        if self.head:\n",
    "            if data.lstrip().rstrip().strip() != ' ':\n",
    "                print( data.lstrip().rstrip().strip())\n",
    "    \n",
    "    def handle_endtag(self, tag):\n",
    "        if tag in (\"h1\",\"h2\"):\n",
    "            self.head = False\n",
    "\n",
    "\n",
    "infile = open('w3c.html')\n",
    "content = infile.read()\n",
    "infile.close()\n",
    "hp = HeadingParser()\n",
    "hp.feed(content)"
   ]
  },
  {
   "cell_type": "code",
   "execution_count": 27,
   "id": "888112b2",
   "metadata": {},
   "outputs": [
    {
     "name": "stdout",
     "output_type": "stream",
     "text": [
      "Q7. Implement recursive function webdir() that takes as input: a URL (as a string) and non-negative integers depth and indent. \n"
     ]
    }
   ],
   "source": [
    "print(\"Q7. Implement recursive function webdir() that takes as input: a URL (as a string) and non-negative integers depth and indent. \")\\\n",
    "\n",
    "from urllib.parse import urljoin\n",
    "from html.parser import HTMLParser\n",
    "class Collector(HTMLParser):\n",
    "    'collects hyperlink URLs into a list'\n",
    "\n",
    "    def __init__(self, url):\n",
    "        'initializes parser, the url, and a list'\n",
    "        HTMLParser.__init__(self)\n",
    "        self.url = url\n",
    "        self.links = []\n",
    "\n",
    "    \n",
    "    def handle_starttag(self, tag, attrs):\n",
    "        'collects hyperlink URLs in their absolute format'\n",
    "        if tag == 'a':\n",
    "            for attr in attrs:\n",
    "                if attr[0] == 'href':\n",
    "                    # construct absolute URL\n",
    "                    absolute = urljoin(self.url, attr[1])\n",
    "                    if absolute[:4] == 'http': # collect HTTP URLs\n",
    "                        self.links.append(absolute)\n",
    "                        \n",
    "    def getLinks(self):\n",
    "        'returns hyperlinks URLs in their absolute format'\n",
    "        return self.links\n"
   ]
  },
  {
   "cell_type": "code",
   "execution_count": 28,
   "id": "6361b0a9",
   "metadata": {},
   "outputs": [
    {
     "data": {
      "text/plain": [
       "['http://reed.cs.depaul.edu/lperkovic/test2.html',\n",
       " 'https://reed.cs.depaul.edu/lperkovic/test3.html']"
      ]
     },
     "execution_count": 28,
     "metadata": {},
     "output_type": "execute_result"
    }
   ],
   "source": [
    "url = 'https://reed.cs.depaul.edu/lperkovic/test1.html'\n",
    "resource = urlopen(url)\n",
    "content = resource.read().decode()\n",
    "collector = Collector(url)\n",
    "collector.feed(content)\n",
    "collector.getLinks()"
   ]
  },
  {
   "cell_type": "code",
   "execution_count": 43,
   "id": "83f15266",
   "metadata": {},
   "outputs": [],
   "source": [
    "visited =set()\n",
    "def crawl2(url):\n",
    "    '''a recursive web crawler that calls analyze()\n",
    "       on every visited web page'''\n",
    "\n",
    "    # add url to set of visited pages\n",
    "    global visited     # warns the programmer \n",
    "    visited.add(url)\n",
    "\n",
    "    # analyze() returns a list of hyperlink URLs in web page url \n",
    "    links = analyze(url)\n",
    "\n",
    "    # recursively continue crawl from every link in links\n",
    "    for link in links:\n",
    "        # follow link only if not visited\n",
    "        if link not in visited:\n",
    "            try:\n",
    "                crawl2(link)\n",
    "            except:\n",
    "                pass"
   ]
  },
  {
   "cell_type": "code",
   "execution_count": 44,
   "id": "45400c85",
   "metadata": {},
   "outputs": [],
   "source": [
    "from urllib.request import urlopen\n",
    "from urllib.parse import urljoin\n",
    "\n",
    "from html.parser import HTMLParser\n",
    "\n",
    "def analyze(url):\n",
    "    \n",
    "    print('\\n\\nVisiting', url)           # for testing\n",
    "\n",
    "    # obtain links in the web page\n",
    "    content = urlopen(url).read().decode()\n",
    "    collector = Collector(url)\n",
    "    collector.feed(content)\n",
    "    urls = collector.getLinks()          # get list of links\n",
    "\n",
    "    # print the http links found in web page\n",
    "    print('\\n{:45} {:10}'.format('URL', 'link'))\n",
    "    for link in urls:\n",
    "        print('{:45} {:10}'.format(url, link))\n",
    "\n",
    "    return urls"
   ]
  },
  {
   "cell_type": "code",
   "execution_count": 45,
   "id": "0dce16f5",
   "metadata": {},
   "outputs": [
    {
     "name": "stdout",
     "output_type": "stream",
     "text": [
      "\n",
      "\n",
      "Visiting https://reed.cs.depaul.edu/lperkovic/test1.html\n",
      "\n",
      "URL                                           link      \n",
      "https://reed.cs.depaul.edu/lperkovic/test1.html http://reed.cs.depaul.edu/lperkovic/test2.html\n",
      "https://reed.cs.depaul.edu/lperkovic/test1.html https://reed.cs.depaul.edu/lperkovic/test3.html\n",
      "\n",
      "\n",
      "Visiting http://reed.cs.depaul.edu/lperkovic/test2.html\n",
      "\n",
      "URL                                           link      \n",
      "http://reed.cs.depaul.edu/lperkovic/test2.html http://reed.cs.depaul.edu/lperkovic/test4.html\n",
      "\n",
      "\n",
      "Visiting http://reed.cs.depaul.edu/lperkovic/test4.html\n",
      "\n",
      "URL                                           link      \n",
      "\n",
      "\n",
      "Visiting https://reed.cs.depaul.edu/lperkovic/test3.html\n",
      "\n",
      "URL                                           link      \n",
      "https://reed.cs.depaul.edu/lperkovic/test3.html https://reed.cs.depaul.edu/lperkovic/test4.html\n",
      "\n",
      "\n",
      "Visiting https://reed.cs.depaul.edu/lperkovic/test4.html\n",
      "\n",
      "URL                                           link      \n"
     ]
    }
   ],
   "source": [
    "crawl2('https://reed.cs.depaul.edu/lperkovic/test1.html',)"
   ]
  },
  {
   "cell_type": "code",
   "execution_count": 11,
   "id": "82c8d4c6",
   "metadata": {},
   "outputs": [
    {
     "name": "stdout",
     "output_type": "stream",
     "text": [
      "Q8.Write SQL queries on the below database table that return: \n"
     ]
    }
   ],
   "source": [
    "print(\"Q8.Write SQL queries on the below database table that return: \")"
   ]
  },
  {
   "cell_type": "code",
   "execution_count": 5,
   "id": "89dbf3d9",
   "metadata": {},
   "outputs": [],
   "source": [
    "%load_ext sql\n",
    "%sql sqlite:///"
   ]
  },
  {
   "cell_type": "code",
   "execution_count": 6,
   "id": "e0048177",
   "metadata": {},
   "outputs": [
    {
     "name": "stdout",
     "output_type": "stream",
     "text": [
      " * sqlite:///\n",
      "Done.\n"
     ]
    },
    {
     "data": {
      "text/plain": [
       "[]"
      ]
     },
     "execution_count": 6,
     "metadata": {},
     "output_type": "execute_result"
    }
   ],
   "source": [
    "%%sql\n",
    "CREATE TABLE rain(\n",
    "    city varchar(25),\n",
    "    country varchar(25),\n",
    "    season varchar(25),\n",
    "    temperature float(10),\n",
    "    rainfall  float(10)\n",
    ");"
   ]
  },
  {
   "cell_type": "code",
   "execution_count": 7,
   "id": "30d9be57",
   "metadata": {},
   "outputs": [
    {
     "name": "stdout",
     "output_type": "stream",
     "text": [
      " * sqlite:///\n",
      "12 rows affected.\n"
     ]
    },
    {
     "data": {
      "text/plain": [
       "[]"
      ]
     },
     "execution_count": 7,
     "metadata": {},
     "output_type": "execute_result"
    }
   ],
   "source": [
    "%%sql\n",
    "INSERT INTO rain VALUES\n",
    "('Mumbai','India', 'winter','24.8','5.9'),\n",
    "('Mumbai','India', 'spring','28.4','16.2'),\n",
    "('Mumbai','India', 'summer','27.9','1549.4'),\n",
    "('Mumbai','India', 'fall','27.6','346.0'),\n",
    "('London','United Kingdom','winter','4.2','207.7'),\n",
    "('London','United Kingdom','sping','8.3','169.6'),\n",
    "('London','United Kingdom','summer','15.7','157.0'),\n",
    "('London','United Kingdom','fall','10.4','218.5'),\n",
    "('Cairo','Egypt', 'winter','13.6','16.5'),\n",
    "('Cairo','Egypt', 'spring','20.7','6.5'),\n",
    "('Cairo','Egypt', 'summer','27.7','0.1'),\n",
    "('Cairo','Egypt', 'fall','22.2','4.5');"
   ]
  },
  {
   "cell_type": "code",
   "execution_count": 8,
   "id": "71545fa7",
   "metadata": {},
   "outputs": [
    {
     "name": "stdout",
     "output_type": "stream",
     "text": [
      " * sqlite:///\n",
      "Done.\n"
     ]
    },
    {
     "data": {
      "text/html": [
       "<table>\n",
       "    <tr>\n",
       "        <th>city</th>\n",
       "        <th>country</th>\n",
       "        <th>season</th>\n",
       "        <th>temperature</th>\n",
       "        <th>rainfall</th>\n",
       "    </tr>\n",
       "    <tr>\n",
       "        <td>Mumbai</td>\n",
       "        <td>India</td>\n",
       "        <td>winter</td>\n",
       "        <td>24.8</td>\n",
       "        <td>5.9</td>\n",
       "    </tr>\n",
       "    <tr>\n",
       "        <td>Mumbai</td>\n",
       "        <td>India</td>\n",
       "        <td>spring</td>\n",
       "        <td>28.4</td>\n",
       "        <td>16.2</td>\n",
       "    </tr>\n",
       "    <tr>\n",
       "        <td>Mumbai</td>\n",
       "        <td>India</td>\n",
       "        <td>summer</td>\n",
       "        <td>27.9</td>\n",
       "        <td>1549.4</td>\n",
       "    </tr>\n",
       "    <tr>\n",
       "        <td>Mumbai</td>\n",
       "        <td>India</td>\n",
       "        <td>fall</td>\n",
       "        <td>27.6</td>\n",
       "        <td>346.0</td>\n",
       "    </tr>\n",
       "    <tr>\n",
       "        <td>London</td>\n",
       "        <td>United Kingdom</td>\n",
       "        <td>winter</td>\n",
       "        <td>4.2</td>\n",
       "        <td>207.7</td>\n",
       "    </tr>\n",
       "    <tr>\n",
       "        <td>London</td>\n",
       "        <td>United Kingdom</td>\n",
       "        <td>sping</td>\n",
       "        <td>8.3</td>\n",
       "        <td>169.6</td>\n",
       "    </tr>\n",
       "    <tr>\n",
       "        <td>London</td>\n",
       "        <td>United Kingdom</td>\n",
       "        <td>summer</td>\n",
       "        <td>15.7</td>\n",
       "        <td>157.0</td>\n",
       "    </tr>\n",
       "    <tr>\n",
       "        <td>London</td>\n",
       "        <td>United Kingdom</td>\n",
       "        <td>fall</td>\n",
       "        <td>10.4</td>\n",
       "        <td>218.5</td>\n",
       "    </tr>\n",
       "    <tr>\n",
       "        <td>Cairo</td>\n",
       "        <td>Egypt</td>\n",
       "        <td>winter</td>\n",
       "        <td>13.6</td>\n",
       "        <td>16.5</td>\n",
       "    </tr>\n",
       "    <tr>\n",
       "        <td>Cairo</td>\n",
       "        <td>Egypt</td>\n",
       "        <td>spring</td>\n",
       "        <td>20.7</td>\n",
       "        <td>6.5</td>\n",
       "    </tr>\n",
       "    <tr>\n",
       "        <td>Cairo</td>\n",
       "        <td>Egypt</td>\n",
       "        <td>summer</td>\n",
       "        <td>27.7</td>\n",
       "        <td>0.1</td>\n",
       "    </tr>\n",
       "    <tr>\n",
       "        <td>Cairo</td>\n",
       "        <td>Egypt</td>\n",
       "        <td>fall</td>\n",
       "        <td>22.2</td>\n",
       "        <td>4.5</td>\n",
       "    </tr>\n",
       "</table>"
      ],
      "text/plain": [
       "[('Mumbai', 'India', 'winter', 24.8, 5.9),\n",
       " ('Mumbai', 'India', 'spring', 28.4, 16.2),\n",
       " ('Mumbai', 'India', 'summer', 27.9, 1549.4),\n",
       " ('Mumbai', 'India', 'fall', 27.6, 346.0),\n",
       " ('London', 'United Kingdom', 'winter', 4.2, 207.7),\n",
       " ('London', 'United Kingdom', 'sping', 8.3, 169.6),\n",
       " ('London', 'United Kingdom', 'summer', 15.7, 157.0),\n",
       " ('London', 'United Kingdom', 'fall', 10.4, 218.5),\n",
       " ('Cairo', 'Egypt', 'winter', 13.6, 16.5),\n",
       " ('Cairo', 'Egypt', 'spring', 20.7, 6.5),\n",
       " ('Cairo', 'Egypt', 'summer', 27.7, 0.1),\n",
       " ('Cairo', 'Egypt', 'fall', 22.2, 4.5)]"
      ]
     },
     "execution_count": 8,
     "metadata": {},
     "output_type": "execute_result"
    }
   ],
   "source": [
    "%sql select * from rain;"
   ]
  },
  {
   "cell_type": "code",
   "execution_count": 9,
   "id": "ca9b8591",
   "metadata": {},
   "outputs": [
    {
     "name": "stdout",
     "output_type": "stream",
     "text": [
      " * sqlite:///\n",
      "Done.\n"
     ]
    },
    {
     "data": {
      "text/html": [
       "<table>\n",
       "    <tr>\n",
       "        <th>temperature</th>\n",
       "    </tr>\n",
       "    <tr>\n",
       "        <td>24.8</td>\n",
       "    </tr>\n",
       "    <tr>\n",
       "        <td>28.4</td>\n",
       "    </tr>\n",
       "    <tr>\n",
       "        <td>27.9</td>\n",
       "    </tr>\n",
       "    <tr>\n",
       "        <td>27.6</td>\n",
       "    </tr>\n",
       "    <tr>\n",
       "        <td>4.2</td>\n",
       "    </tr>\n",
       "    <tr>\n",
       "        <td>8.3</td>\n",
       "    </tr>\n",
       "    <tr>\n",
       "        <td>15.7</td>\n",
       "    </tr>\n",
       "    <tr>\n",
       "        <td>10.4</td>\n",
       "    </tr>\n",
       "    <tr>\n",
       "        <td>13.6</td>\n",
       "    </tr>\n",
       "    <tr>\n",
       "        <td>20.7</td>\n",
       "    </tr>\n",
       "    <tr>\n",
       "        <td>27.7</td>\n",
       "    </tr>\n",
       "    <tr>\n",
       "        <td>22.2</td>\n",
       "    </tr>\n",
       "</table>"
      ],
      "text/plain": [
       "[(24.8,),\n",
       " (28.4,),\n",
       " (27.9,),\n",
       " (27.6,),\n",
       " (4.2,),\n",
       " (8.3,),\n",
       " (15.7,),\n",
       " (10.4,),\n",
       " (13.6,),\n",
       " (20.7,),\n",
       " (27.7,),\n",
       " (22.2,)]"
      ]
     },
     "execution_count": 9,
     "metadata": {},
     "output_type": "execute_result"
    }
   ],
   "source": [
    "%sql select temperature from rain;"
   ]
  },
  {
   "cell_type": "code",
   "execution_count": 36,
   "id": "5c9c6796",
   "metadata": {},
   "outputs": [
    {
     "name": "stdout",
     "output_type": "stream",
     "text": [
      " * sqlite:///\n",
      "Done.\n"
     ]
    },
    {
     "data": {
      "text/html": [
       "<table>\n",
       "    <tr>\n",
       "        <th>city</th>\n",
       "    </tr>\n",
       "    <tr>\n",
       "        <td>Mumbai</td>\n",
       "    </tr>\n",
       "    <tr>\n",
       "        <td>London</td>\n",
       "    </tr>\n",
       "    <tr>\n",
       "        <td>Cairo</td>\n",
       "    </tr>\n",
       "</table>"
      ],
      "text/plain": [
       "[('Mumbai',), ('London',), ('Cairo',)]"
      ]
     },
     "execution_count": 36,
     "metadata": {},
     "output_type": "execute_result"
    }
   ],
   "source": [
    "%sql select distinct city from rain;"
   ]
  },
  {
   "cell_type": "code",
   "execution_count": 37,
   "id": "2c634df8",
   "metadata": {},
   "outputs": [
    {
     "name": "stdout",
     "output_type": "stream",
     "text": [
      " * sqlite:///\n",
      "Done.\n"
     ]
    },
    {
     "data": {
      "text/html": [
       "<table>\n",
       "    <tr>\n",
       "        <th>city</th>\n",
       "        <th>country</th>\n",
       "        <th>season</th>\n",
       "        <th>temperature</th>\n",
       "        <th>rainfall</th>\n",
       "    </tr>\n",
       "    <tr>\n",
       "        <td>Mumbai</td>\n",
       "        <td>India</td>\n",
       "        <td>winter</td>\n",
       "        <td>24.8</td>\n",
       "        <td>5.9</td>\n",
       "    </tr>\n",
       "    <tr>\n",
       "        <td>Mumbai</td>\n",
       "        <td>India</td>\n",
       "        <td>spring</td>\n",
       "        <td>28.4</td>\n",
       "        <td>16.2</td>\n",
       "    </tr>\n",
       "    <tr>\n",
       "        <td>Mumbai</td>\n",
       "        <td>India</td>\n",
       "        <td>summer</td>\n",
       "        <td>27.9</td>\n",
       "        <td>1549.4</td>\n",
       "    </tr>\n",
       "    <tr>\n",
       "        <td>Mumbai</td>\n",
       "        <td>India</td>\n",
       "        <td>fall</td>\n",
       "        <td>27.6</td>\n",
       "        <td>346.0</td>\n",
       "    </tr>\n",
       "</table>"
      ],
      "text/plain": [
       "[('Mumbai', 'India', 'winter', 24.8, 5.9),\n",
       " ('Mumbai', 'India', 'spring', 28.4, 16.2),\n",
       " ('Mumbai', 'India', 'summer', 27.9, 1549.4),\n",
       " ('Mumbai', 'India', 'fall', 27.6, 346.0)]"
      ]
     },
     "execution_count": 37,
     "metadata": {},
     "output_type": "execute_result"
    }
   ],
   "source": [
    "%sql select * from rain where country = 'India';"
   ]
  },
  {
   "cell_type": "code",
   "execution_count": 38,
   "id": "b18a167d",
   "metadata": {},
   "outputs": [
    {
     "name": "stdout",
     "output_type": "stream",
     "text": [
      " * sqlite:///\n",
      "Done.\n"
     ]
    },
    {
     "data": {
      "text/html": [
       "<table>\n",
       "    <tr>\n",
       "        <th>city</th>\n",
       "        <th>country</th>\n",
       "        <th>season</th>\n",
       "        <th>temperature</th>\n",
       "        <th>rainfall</th>\n",
       "    </tr>\n",
       "    <tr>\n",
       "        <td>Mumbai</td>\n",
       "        <td>India</td>\n",
       "        <td>fall</td>\n",
       "        <td>27.6</td>\n",
       "        <td>346.0</td>\n",
       "    </tr>\n",
       "    <tr>\n",
       "        <td>London</td>\n",
       "        <td>United Kingdom</td>\n",
       "        <td>fall</td>\n",
       "        <td>10.4</td>\n",
       "        <td>218.5</td>\n",
       "    </tr>\n",
       "    <tr>\n",
       "        <td>Cairo</td>\n",
       "        <td>Egypt</td>\n",
       "        <td>fall</td>\n",
       "        <td>22.2</td>\n",
       "        <td>4.5</td>\n",
       "    </tr>\n",
       "</table>"
      ],
      "text/plain": [
       "[('Mumbai', 'India', 'fall', 27.6, 346.0),\n",
       " ('London', 'United Kingdom', 'fall', 10.4, 218.5),\n",
       " ('Cairo', 'Egypt', 'fall', 22.2, 4.5)]"
      ]
     },
     "execution_count": 38,
     "metadata": {},
     "output_type": "execute_result"
    }
   ],
   "source": [
    "%sql select * from rain where season ='fall';"
   ]
  },
  {
   "cell_type": "code",
   "execution_count": 39,
   "id": "8c8369e3",
   "metadata": {},
   "outputs": [
    {
     "name": "stdout",
     "output_type": "stream",
     "text": [
      " * sqlite:///\n",
      "Done.\n"
     ]
    },
    {
     "data": {
      "text/html": [
       "<table>\n",
       "    <tr>\n",
       "        <th>city</th>\n",
       "        <th>country</th>\n",
       "        <th>season</th>\n",
       "    </tr>\n",
       "    <tr>\n",
       "        <td>Mumbai</td>\n",
       "        <td>India</td>\n",
       "        <td>fall</td>\n",
       "    </tr>\n",
       "    <tr>\n",
       "        <td>London</td>\n",
       "        <td>United Kingdom</td>\n",
       "        <td>winter</td>\n",
       "    </tr>\n",
       "    <tr>\n",
       "        <td>London</td>\n",
       "        <td>United Kingdom</td>\n",
       "        <td>fall</td>\n",
       "    </tr>\n",
       "</table>"
      ],
      "text/plain": [
       "[('Mumbai', 'India', 'fall'),\n",
       " ('London', 'United Kingdom', 'winter'),\n",
       " ('London', 'United Kingdom', 'fall')]"
      ]
     },
     "execution_count": 39,
     "metadata": {},
     "output_type": "execute_result"
    }
   ],
   "source": [
    "%sql select City, country, season from rain where rainfall > 200 AND rainfall < 400;"
   ]
  },
  {
   "cell_type": "code",
   "execution_count": 40,
   "id": "010b564e",
   "metadata": {},
   "outputs": [
    {
     "name": "stdout",
     "output_type": "stream",
     "text": [
      " * sqlite:///\n",
      "Done.\n"
     ]
    },
    {
     "data": {
      "text/html": [
       "<table>\n",
       "    <tr>\n",
       "        <th>city</th>\n",
       "        <th>country</th>\n",
       "    </tr>\n",
       "    <tr>\n",
       "        <td>Cairo</td>\n",
       "        <td>Egypt</td>\n",
       "    </tr>\n",
       "    <tr>\n",
       "        <td>Mumbai</td>\n",
       "        <td>India</td>\n",
       "    </tr>\n",
       "</table>"
      ],
      "text/plain": [
       "[('Cairo', 'Egypt'), ('Mumbai', 'India')]"
      ]
     },
     "execution_count": 40,
     "metadata": {},
     "output_type": "execute_result"
    }
   ],
   "source": [
    "%sql select city, country from rain where season = 'fall' And temperature > 20 ORDER BY temperature;"
   ]
  },
  {
   "cell_type": "code",
   "execution_count": 41,
   "id": "2cb68671",
   "metadata": {},
   "outputs": [
    {
     "name": "stdout",
     "output_type": "stream",
     "text": [
      " * sqlite:///\n",
      "Done.\n"
     ]
    },
    {
     "data": {
      "text/html": [
       "<table>\n",
       "    <tr>\n",
       "        <th>sum(rainfall)</th>\n",
       "    </tr>\n",
       "    <tr>\n",
       "        <td>27.6</td>\n",
       "    </tr>\n",
       "</table>"
      ],
      "text/plain": [
       "[(27.6,)]"
      ]
     },
     "execution_count": 41,
     "metadata": {},
     "output_type": "execute_result"
    }
   ],
   "source": [
    "%sql select sum(rainfall) from rain where city = 'Cairo';"
   ]
  },
  {
   "cell_type": "code",
   "execution_count": 42,
   "id": "8694d578",
   "metadata": {},
   "outputs": [
    {
     "name": "stdout",
     "output_type": "stream",
     "text": [
      " * sqlite:///\n",
      "Done.\n"
     ]
    },
    {
     "data": {
      "text/html": [
       "<table>\n",
       "    <tr>\n",
       "        <th>sum(rainfall)</th>\n",
       "    </tr>\n",
       "    <tr>\n",
       "        <td>569.0</td>\n",
       "    </tr>\n",
       "    <tr>\n",
       "        <td>169.6</td>\n",
       "    </tr>\n",
       "    <tr>\n",
       "        <td>22.7</td>\n",
       "    </tr>\n",
       "    <tr>\n",
       "        <td>1706.5</td>\n",
       "    </tr>\n",
       "    <tr>\n",
       "        <td>230.1</td>\n",
       "    </tr>\n",
       "</table>"
      ],
      "text/plain": [
       "[(569.0,), (169.6,), (22.7,), (1706.5,), (230.1,)]"
      ]
     },
     "execution_count": 42,
     "metadata": {},
     "output_type": "execute_result"
    }
   ],
   "source": [
    "%sql select sum(rainfall) from rain group by season;"
   ]
  },
  {
   "cell_type": "code",
   "execution_count": 13,
   "id": "1e94c660",
   "metadata": {},
   "outputs": [
    {
     "name": "stdout",
     "output_type": "stream",
     "text": [
      "Q9. Write list comprehension expressions that use list words and generate the following lists:\n",
      "['THE', 'QUICK', 'BROWN', 'FOX', 'JUMPS', 'OVER', 'THE', 'LAZY', 'DOG']\n",
      "['the', 'quick', 'brown', 'fox', 'jumps', 'over', 'the', 'lazy', 'dog']\n",
      "[3, 5, 5, 3, 5, 4, 3, 4, 3]\n",
      "[['THE', 'the', 3], ['QUICK', 'quick', 5], ['BROWN', 'brown', 5], ['FOX', 'fox', 3], ['JUMPS', 'jumps', 5], ['OVER', 'over', 4], ['THE', 'the', 3], ['LAZY', 'lazy', 4], ['DOG', 'dog', 3]]\n",
      "['quick', 'brown', 'jumps', 'over', 'lazy']\n"
     ]
    }
   ],
   "source": [
    "print(\"Q9. Write list comprehension expressions that use list words and generate the following lists:\")\n",
    "\n",
    "words = ['The','quick','brown','fox','jumps','over','the','lazy','dog']\n",
    "l1 = [words[i].upper() for i in range(len(words))]\n",
    "l2 = [words[i].lower() for i in range(len(words))]\n",
    "l3 = [len(i) for i in words]\n",
    "l4 = [[l1[i],l2[i],l3[i]]for i in range(len(words))]\n",
    "l5 = [i for i in words if len(i) >= 4]\n",
    "print(l1)\n",
    "print(l2)\n",
    "print(l3)\n",
    "print(l4)\n",
    "print(l5)"
   ]
  },
  {
   "cell_type": "code",
   "execution_count": null,
   "id": "3a094ddd",
   "metadata": {},
   "outputs": [],
   "source": []
  }
 ],
 "metadata": {
  "kernelspec": {
   "display_name": "Python 3 (ipykernel)",
   "language": "python",
   "name": "python3"
  },
  "language_info": {
   "codemirror_mode": {
    "name": "ipython",
    "version": 3
   },
   "file_extension": ".py",
   "mimetype": "text/x-python",
   "name": "python",
   "nbconvert_exporter": "python",
   "pygments_lexer": "ipython3",
   "version": "3.9.7"
  }
 },
 "nbformat": 4,
 "nbformat_minor": 5
}
